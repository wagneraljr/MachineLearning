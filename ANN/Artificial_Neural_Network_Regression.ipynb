{
  "nbformat": 4,
  "nbformat_minor": 0,
  "metadata": {
    "colab": {
      "name": "Artificial Neural Network - Regression",
      "provenance": [],
      "collapsed_sections": [],
      "include_colab_link": true
    },
    "kernelspec": {
      "name": "python3",
      "display_name": "Python 3"
    }
  },
  "cells": [
    {
      "cell_type": "markdown",
      "metadata": {
        "id": "view-in-github",
        "colab_type": "text"
      },
      "source": [
        "<a href=\"https://colab.research.google.com/github/wagneraljr/MachineLearning/blob/main/ANN/Artificial_Neural_Network_Regression.ipynb\" target=\"_parent\"><img src=\"https://colab.research.google.com/assets/colab-badge.svg\" alt=\"Open In Colab\"/></a>"
      ]
    },
    {
      "cell_type": "markdown",
      "metadata": {
        "id": "3cbb7fRy-eyr"
      },
      "source": [
        "# Artificial Neural Network - Regression"
      ]
    },
    {
      "cell_type": "markdown",
      "metadata": {
        "id": "8sNDnxE2-pwE"
      },
      "source": [
        "### Importing the libraries"
      ]
    },
    {
      "cell_type": "code",
      "metadata": {
        "id": "lxChR1Rk-umf"
      },
      "source": [
        "import numpy as np\n",
        "import pandas as pd\n",
        "import tensorflow as tf"
      ],
      "execution_count": 1,
      "outputs": []
    },
    {
      "cell_type": "code",
      "metadata": {
        "id": "uBTqR3nacj0e",
        "colab": {
          "base_uri": "https://localhost:8080/",
          "height": 36
        },
        "outputId": "6fabce57-b34e-4bf2-a737-00bab8540e03"
      },
      "source": [
        "tf.__version__"
      ],
      "execution_count": 2,
      "outputs": [
        {
          "output_type": "execute_result",
          "data": {
            "text/plain": [
              "'2.8.2'"
            ],
            "application/vnd.google.colaboratory.intrinsic+json": {
              "type": "string"
            }
          },
          "metadata": {},
          "execution_count": 2
        }
      ]
    },
    {
      "cell_type": "markdown",
      "metadata": {
        "id": "AG3FQEch-yuA"
      },
      "source": [
        "## Part 1 - Data Preprocessing"
      ]
    },
    {
      "cell_type": "markdown",
      "metadata": {
        "id": "-4zq8Mza_D9O"
      },
      "source": [
        "### Importing the dataset"
      ]
    },
    {
      "cell_type": "code",
      "metadata": {
        "id": "B9CV13Co_HHM"
      },
      "source": [
        "dataset = pd.read_excel('Folds5x2_pp.xlsx')\n",
        "X = dataset.iloc[:, :-1].values\n",
        "y = dataset.iloc[:, -1].values"
      ],
      "execution_count": 3,
      "outputs": []
    },
    {
      "cell_type": "markdown",
      "metadata": {
        "id": "VC6omXel_Up0"
      },
      "source": [
        "### Splitting the dataset into the Training set and Test set"
      ]
    },
    {
      "cell_type": "code",
      "metadata": {
        "id": "L5edeb2r_agx"
      },
      "source": [
        "from sklearn.model_selection import train_test_split\n",
        "X_train, X_test, y_train, y_test = train_test_split(X, y, test_size = 0.2, random_state = 0)"
      ],
      "execution_count": 4,
      "outputs": []
    },
    {
      "cell_type": "markdown",
      "metadata": {
        "id": "_mSLlAT9_eyI"
      },
      "source": [
        "## Part 2 - Building the ANN"
      ]
    },
    {
      "cell_type": "markdown",
      "metadata": {
        "id": "CsBULd_f_wLY"
      },
      "source": [
        "### Initializing the ANN"
      ]
    },
    {
      "cell_type": "code",
      "metadata": {
        "id": "J6Hd97Ls__Nz"
      },
      "source": [
        "ann = tf.keras.models.Sequential()"
      ],
      "execution_count": 5,
      "outputs": []
    },
    {
      "cell_type": "markdown",
      "metadata": {
        "id": "iitAFJS_ABUn"
      },
      "source": [
        "### Adding the input layer and the first hidden layer"
      ]
    },
    {
      "cell_type": "code",
      "metadata": {
        "id": "ksO_Vv40AHix"
      },
      "source": [
        "ann.add(tf.keras.layers.Dense(units=6, activation='relu'))"
      ],
      "execution_count": 6,
      "outputs": []
    },
    {
      "cell_type": "markdown",
      "metadata": {
        "id": "-lb4kK_wAKbs"
      },
      "source": [
        "### Adding the second hidden layer"
      ]
    },
    {
      "cell_type": "code",
      "metadata": {
        "id": "c2357OqEAQOQ"
      },
      "source": [
        "ann.add(tf.keras.layers.Dense(units=6, activation='relu'))"
      ],
      "execution_count": 7,
      "outputs": []
    },
    {
      "cell_type": "markdown",
      "metadata": {
        "id": "jwMOmKb3AdBY"
      },
      "source": [
        "### Adding the output layer"
      ]
    },
    {
      "cell_type": "code",
      "metadata": {
        "id": "YFATpzsUAkLL"
      },
      "source": [
        "ann.add(tf.keras.layers.Dense(units=1))"
      ],
      "execution_count": 8,
      "outputs": []
    },
    {
      "cell_type": "markdown",
      "metadata": {
        "id": "fq7e4fF6A1yy"
      },
      "source": [
        "## Part 3 - Training the ANN"
      ]
    },
    {
      "cell_type": "markdown",
      "metadata": {
        "id": "qDeylAs2An25"
      },
      "source": [
        "### Compiling the ANN"
      ]
    },
    {
      "cell_type": "code",
      "metadata": {
        "id": "pesgbWlCAtB4"
      },
      "source": [
        "ann.compile(optimizer = 'adam', loss = 'mean_squared_error')"
      ],
      "execution_count": 9,
      "outputs": []
    },
    {
      "cell_type": "markdown",
      "metadata": {
        "id": "YjVuiybYOo7r"
      },
      "source": [
        "### Training the ANN model on the Training set"
      ]
    },
    {
      "cell_type": "code",
      "metadata": {
        "id": "c_vV-tiiA5zn",
        "colab": {
          "base_uri": "https://localhost:8080/"
        },
        "outputId": "1485d501-6813-43b5-e468-af7d4dc7348d"
      },
      "source": [
        "ann.fit(X_train, y_train, batch_size = 32, epochs = 100)"
      ],
      "execution_count": 10,
      "outputs": [
        {
          "output_type": "stream",
          "name": "stdout",
          "text": [
            "Epoch 1/100\n",
            "240/240 [==============================] - 1s 1ms/step - loss: 155251.9688\n",
            "Epoch 2/100\n",
            "240/240 [==============================] - 0s 2ms/step - loss: 253.2453\n",
            "Epoch 3/100\n",
            "240/240 [==============================] - 0s 2ms/step - loss: 246.4652\n",
            "Epoch 4/100\n",
            "240/240 [==============================] - 0s 2ms/step - loss: 239.0517\n",
            "Epoch 5/100\n",
            "240/240 [==============================] - 0s 2ms/step - loss: 230.3493\n",
            "Epoch 6/100\n",
            "240/240 [==============================] - 0s 2ms/step - loss: 220.6048\n",
            "Epoch 7/100\n",
            "240/240 [==============================] - 0s 2ms/step - loss: 210.0982\n",
            "Epoch 8/100\n",
            "240/240 [==============================] - 0s 1ms/step - loss: 199.3127\n",
            "Epoch 9/100\n",
            "240/240 [==============================] - 0s 1ms/step - loss: 186.9697\n",
            "Epoch 10/100\n",
            "240/240 [==============================] - 0s 2ms/step - loss: 174.4716\n",
            "Epoch 11/100\n",
            "240/240 [==============================] - 0s 1ms/step - loss: 162.1889\n",
            "Epoch 12/100\n",
            "240/240 [==============================] - 0s 1ms/step - loss: 149.7776\n",
            "Epoch 13/100\n",
            "240/240 [==============================] - 0s 2ms/step - loss: 137.5814\n",
            "Epoch 14/100\n",
            "240/240 [==============================] - 0s 1ms/step - loss: 126.8051\n",
            "Epoch 15/100\n",
            "240/240 [==============================] - 0s 1ms/step - loss: 114.0824\n",
            "Epoch 16/100\n",
            "240/240 [==============================] - 0s 2ms/step - loss: 102.6025\n",
            "Epoch 17/100\n",
            "240/240 [==============================] - 0s 1ms/step - loss: 92.5649\n",
            "Epoch 18/100\n",
            "240/240 [==============================] - 0s 2ms/step - loss: 83.3288\n",
            "Epoch 19/100\n",
            "240/240 [==============================] - 0s 1ms/step - loss: 74.7373\n",
            "Epoch 20/100\n",
            "240/240 [==============================] - 0s 2ms/step - loss: 66.6644\n",
            "Epoch 21/100\n",
            "240/240 [==============================] - 0s 2ms/step - loss: 59.7865\n",
            "Epoch 22/100\n",
            "240/240 [==============================] - 0s 1ms/step - loss: 54.4173\n",
            "Epoch 23/100\n",
            "240/240 [==============================] - 0s 1ms/step - loss: 49.0313\n",
            "Epoch 24/100\n",
            "240/240 [==============================] - 0s 2ms/step - loss: 45.1872\n",
            "Epoch 25/100\n",
            "240/240 [==============================] - 0s 1ms/step - loss: 42.4418\n",
            "Epoch 26/100\n",
            "240/240 [==============================] - 0s 1ms/step - loss: 39.4287\n",
            "Epoch 27/100\n",
            "240/240 [==============================] - 0s 1ms/step - loss: 37.6755\n",
            "Epoch 28/100\n",
            "240/240 [==============================] - 0s 1ms/step - loss: 36.2416\n",
            "Epoch 29/100\n",
            "240/240 [==============================] - 0s 1ms/step - loss: 35.5017\n",
            "Epoch 30/100\n",
            "240/240 [==============================] - 0s 1ms/step - loss: 34.0370\n",
            "Epoch 31/100\n",
            "240/240 [==============================] - 0s 1ms/step - loss: 32.7202\n",
            "Epoch 32/100\n",
            "240/240 [==============================] - 0s 1ms/step - loss: 31.7593\n",
            "Epoch 33/100\n",
            "240/240 [==============================] - 0s 2ms/step - loss: 31.7434\n",
            "Epoch 34/100\n",
            "240/240 [==============================] - 0s 1ms/step - loss: 30.9123\n",
            "Epoch 35/100\n",
            "240/240 [==============================] - 0s 1ms/step - loss: 30.4149\n",
            "Epoch 36/100\n",
            "240/240 [==============================] - 0s 1ms/step - loss: 30.5246\n",
            "Epoch 37/100\n",
            "240/240 [==============================] - 0s 1ms/step - loss: 29.4288\n",
            "Epoch 38/100\n",
            "240/240 [==============================] - 0s 1ms/step - loss: 29.7281\n",
            "Epoch 39/100\n",
            "240/240 [==============================] - 0s 2ms/step - loss: 29.1388\n",
            "Epoch 40/100\n",
            "240/240 [==============================] - 0s 1ms/step - loss: 28.4874\n",
            "Epoch 41/100\n",
            "240/240 [==============================] - 0s 2ms/step - loss: 27.9613\n",
            "Epoch 42/100\n",
            "240/240 [==============================] - 1s 2ms/step - loss: 28.4190\n",
            "Epoch 43/100\n",
            "240/240 [==============================] - 1s 2ms/step - loss: 28.0492\n",
            "Epoch 44/100\n",
            "240/240 [==============================] - 0s 2ms/step - loss: 27.7907\n",
            "Epoch 45/100\n",
            "240/240 [==============================] - 1s 2ms/step - loss: 27.7756\n",
            "Epoch 46/100\n",
            "240/240 [==============================] - 0s 2ms/step - loss: 27.9013\n",
            "Epoch 47/100\n",
            "240/240 [==============================] - 0s 1ms/step - loss: 26.7213\n",
            "Epoch 48/100\n",
            "240/240 [==============================] - 0s 1ms/step - loss: 27.2023\n",
            "Epoch 49/100\n",
            "240/240 [==============================] - 0s 2ms/step - loss: 27.6614\n",
            "Epoch 50/100\n",
            "240/240 [==============================] - 0s 1ms/step - loss: 27.2312\n",
            "Epoch 51/100\n",
            "240/240 [==============================] - 0s 1ms/step - loss: 27.9745\n",
            "Epoch 52/100\n",
            "240/240 [==============================] - 0s 1ms/step - loss: 27.0027\n",
            "Epoch 53/100\n",
            "240/240 [==============================] - 0s 1ms/step - loss: 28.1006\n",
            "Epoch 54/100\n",
            "240/240 [==============================] - 0s 1ms/step - loss: 26.8420\n",
            "Epoch 55/100\n",
            "240/240 [==============================] - 0s 1ms/step - loss: 27.0725\n",
            "Epoch 56/100\n",
            "240/240 [==============================] - 0s 2ms/step - loss: 27.5758\n",
            "Epoch 57/100\n",
            "240/240 [==============================] - 0s 2ms/step - loss: 27.5657\n",
            "Epoch 58/100\n",
            "240/240 [==============================] - 0s 1ms/step - loss: 26.8446\n",
            "Epoch 59/100\n",
            "240/240 [==============================] - 0s 1ms/step - loss: 27.0248\n",
            "Epoch 60/100\n",
            "240/240 [==============================] - 0s 1ms/step - loss: 27.5001\n",
            "Epoch 61/100\n",
            "240/240 [==============================] - 0s 1ms/step - loss: 27.1645\n",
            "Epoch 62/100\n",
            "240/240 [==============================] - 0s 2ms/step - loss: 26.7945\n",
            "Epoch 63/100\n",
            "240/240 [==============================] - 0s 1ms/step - loss: 26.7623\n",
            "Epoch 64/100\n",
            "240/240 [==============================] - 0s 1ms/step - loss: 27.1433\n",
            "Epoch 65/100\n",
            "240/240 [==============================] - 0s 1ms/step - loss: 27.3967\n",
            "Epoch 66/100\n",
            "240/240 [==============================] - 0s 1ms/step - loss: 28.1962\n",
            "Epoch 67/100\n",
            "240/240 [==============================] - 0s 1ms/step - loss: 27.1699\n",
            "Epoch 68/100\n",
            "240/240 [==============================] - 0s 1ms/step - loss: 26.8744\n",
            "Epoch 69/100\n",
            "240/240 [==============================] - 0s 1ms/step - loss: 27.2189\n",
            "Epoch 70/100\n",
            "240/240 [==============================] - 0s 2ms/step - loss: 27.2810\n",
            "Epoch 71/100\n",
            "240/240 [==============================] - 0s 1ms/step - loss: 27.5331\n",
            "Epoch 72/100\n",
            "240/240 [==============================] - 0s 2ms/step - loss: 27.0267\n",
            "Epoch 73/100\n",
            "240/240 [==============================] - 0s 1ms/step - loss: 27.7393\n",
            "Epoch 74/100\n",
            "240/240 [==============================] - 0s 1ms/step - loss: 27.2221\n",
            "Epoch 75/100\n",
            "240/240 [==============================] - 0s 1ms/step - loss: 27.3431\n",
            "Epoch 76/100\n",
            "240/240 [==============================] - 0s 2ms/step - loss: 26.7191\n",
            "Epoch 77/100\n",
            "240/240 [==============================] - 0s 1ms/step - loss: 26.9368\n",
            "Epoch 78/100\n",
            "240/240 [==============================] - 0s 2ms/step - loss: 27.7221\n",
            "Epoch 79/100\n",
            "240/240 [==============================] - 0s 1ms/step - loss: 27.4342\n",
            "Epoch 80/100\n",
            "240/240 [==============================] - 0s 1ms/step - loss: 26.8927\n",
            "Epoch 81/100\n",
            "240/240 [==============================] - 0s 1ms/step - loss: 27.0976\n",
            "Epoch 82/100\n",
            "240/240 [==============================] - 0s 1ms/step - loss: 27.1009\n",
            "Epoch 83/100\n",
            "240/240 [==============================] - 0s 1ms/step - loss: 26.8717\n",
            "Epoch 84/100\n",
            "240/240 [==============================] - 0s 1ms/step - loss: 27.1581\n",
            "Epoch 85/100\n",
            "240/240 [==============================] - 0s 1ms/step - loss: 26.4417\n",
            "Epoch 86/100\n",
            "240/240 [==============================] - 0s 1ms/step - loss: 26.8848\n",
            "Epoch 87/100\n",
            "240/240 [==============================] - 0s 2ms/step - loss: 27.9076\n",
            "Epoch 88/100\n",
            "240/240 [==============================] - 0s 1ms/step - loss: 27.7215\n",
            "Epoch 89/100\n",
            "240/240 [==============================] - 0s 1ms/step - loss: 27.7187\n",
            "Epoch 90/100\n",
            "240/240 [==============================] - 0s 2ms/step - loss: 27.8876\n",
            "Epoch 91/100\n",
            "240/240 [==============================] - 0s 1ms/step - loss: 27.0103\n",
            "Epoch 92/100\n",
            "240/240 [==============================] - 0s 1ms/step - loss: 26.5979\n",
            "Epoch 93/100\n",
            "240/240 [==============================] - 0s 2ms/step - loss: 26.6633\n",
            "Epoch 94/100\n",
            "240/240 [==============================] - 0s 1ms/step - loss: 27.1542\n",
            "Epoch 95/100\n",
            "240/240 [==============================] - 0s 2ms/step - loss: 27.0119\n",
            "Epoch 96/100\n",
            "240/240 [==============================] - 0s 2ms/step - loss: 27.1675\n",
            "Epoch 97/100\n",
            "240/240 [==============================] - 0s 1ms/step - loss: 27.7107\n",
            "Epoch 98/100\n",
            "240/240 [==============================] - 0s 1ms/step - loss: 27.6139\n",
            "Epoch 99/100\n",
            "240/240 [==============================] - 0s 2ms/step - loss: 27.0890\n",
            "Epoch 100/100\n",
            "240/240 [==============================] - 0s 2ms/step - loss: 26.7992\n"
          ]
        },
        {
          "output_type": "execute_result",
          "data": {
            "text/plain": [
              "<keras.callbacks.History at 0x7ff39f8ca210>"
            ]
          },
          "metadata": {},
          "execution_count": 10
        }
      ]
    },
    {
      "cell_type": "markdown",
      "metadata": {
        "id": "0H0zKKNEBLD5"
      },
      "source": [
        "### Predicting the results of the Test set"
      ]
    },
    {
      "cell_type": "code",
      "metadata": {
        "id": "IA0yApEmBG1X",
        "colab": {
          "base_uri": "https://localhost:8080/"
        },
        "outputId": "f8712255-c3d3-431e-d4b3-054fb4a46204"
      },
      "source": [
        "y_pred = ann.predict(X_test)\n",
        "np.set_printoptions(precision=2)\n",
        "print(np.concatenate((y_pred.reshape(len(y_pred),1), y_test.reshape(len(y_test),1)),1))"
      ],
      "execution_count": 11,
      "outputs": [
        {
          "output_type": "stream",
          "name": "stdout",
          "text": [
            "[[431.38 431.23]\n",
            " [462.41 460.01]\n",
            " [465.9  461.14]\n",
            " ...\n",
            " [473.16 473.26]\n",
            " [439.89 438.  ]\n",
            " [459.13 463.28]]\n"
          ]
        }
      ]
    }
  ]
}